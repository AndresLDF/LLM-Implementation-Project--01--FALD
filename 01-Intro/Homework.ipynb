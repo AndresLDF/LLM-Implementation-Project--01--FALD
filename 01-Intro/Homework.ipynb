{
 "cells": [
  {
   "cell_type": "code",
   "execution_count": 1,
   "id": "90c9a178-90f8-45f4-aaef-1cbab656ea01",
   "metadata": {},
   "outputs": [],
   "source": [
    "import openai"
   ]
  },
  {
   "cell_type": "code",
   "execution_count": 2,
   "id": "f54351a1-04d8-4485-8b56-ca4eaa381754",
   "metadata": {},
   "outputs": [],
   "source": [
    "from openai import OpenAI"
   ]
  },
  {
   "cell_type": "code",
   "execution_count": 3,
   "id": "f024fa16-ac8c-4ec4-8093-d8dc839ee191",
   "metadata": {},
   "outputs": [],
   "source": [
    "client = OpenAI()"
   ]
  },
  {
   "cell_type": "code",
   "execution_count": 4,
   "id": "bec67bfc-b7e2-4379-b820-1e23aed81e3e",
   "metadata": {},
   "outputs": [],
   "source": [
    "response = client.chat.completions.create(\n",
    "    model='gpt-4.1', \n",
    "    messages=[{\n",
    "        \"role\": \"user\",\n",
    "        \"content\": \"Is this working? I am talking to chat gpt 4.1?\"\n",
    "              }]\n",
    ")"
   ]
  },
  {
   "cell_type": "code",
   "execution_count": 6,
   "id": "69fee5da-70bb-48a9-934e-ce305fd554af",
   "metadata": {},
   "outputs": [
    {
     "data": {
      "text/plain": [
       "'Yes, this is working! You are currently talking to ChatGPT, based on OpenAI’s GPT-4 architecture. The “4.1” version refers to some recent improvements, but as of now, OpenAI hasn’t officially detailed a major “GPT-4.1” release to the public. If you have questions, need help, or just want to chat or test anything out, feel free to ask!'"
      ]
     },
     "execution_count": 6,
     "metadata": {},
     "output_type": "execute_result"
    }
   ],
   "source": [
    "response.choices[0].message.content"
   ]
  },
  {
   "cell_type": "code",
   "execution_count": null,
   "id": "1660ede4-f4c0-43d5-a079-bd24eb79c104",
   "metadata": {},
   "outputs": [],
   "source": [
    "    "
   ]
  }
 ],
 "metadata": {
  "kernelspec": {
   "display_name": "Python 3 (ipykernel)",
   "language": "python",
   "name": "python3"
  },
  "language_info": {
   "codemirror_mode": {
    "name": "ipython",
    "version": 3
   },
   "file_extension": ".py",
   "mimetype": "text/x-python",
   "name": "python",
   "nbconvert_exporter": "python",
   "pygments_lexer": "ipython3",
   "version": "3.12.1"
  }
 },
 "nbformat": 4,
 "nbformat_minor": 5
}
